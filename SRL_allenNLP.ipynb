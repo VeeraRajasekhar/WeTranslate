{
 "cells": [
  {
   "cell_type": "code",
   "execution_count": null,
   "id": "9ea73c0f-1141-4b6c-b8e1-14416d91829d",
   "metadata": {},
   "outputs": [],
   "source": [
    "import spacy\n",
    "from spacy import displacy\n",
    "from allennlp.predictors.predictor import Predictor\n",
    "import allennlp_models.tagging\n",
    "\n",
    "import warnings\n",
    "warnings.filterwarnings(\"ignore\")\n",
    "\n",
    "SRL_MODEL_PATH = \"https://storage.googleapis.com/allennlp-public-models/structured-prediction-srl-bert.2020.12.15.tar.gz\"\n",
    "predictor = Predictor.from_path(SRL_MODEL_PATH)\n",
    "# predictions = predictor.predict(sentence=\"Spaghetti meat sauce was bland.\")\n",
    "predictions = predictor.predict(sentence=\"The phone has a good camera.\")\n",
    "\n",
    "for i in predictions[\"verbs\"]:\n",
    "    print(i[\"description\"])"
   ]
  },
  {
   "cell_type": "code",
   "execution_count": null,
   "id": "1157fef7-db91-4d28-8f3e-bdf3f938bfc7",
   "metadata": {},
   "outputs": [],
   "source": [
    "COREF_MODEL_PATH = \"https://storage.googleapis.com/allennlp-public-models/coref-spanbert-large-2021.03.10.tar.gz\"\n",
    "DOCUMENT = \"\"\"Paul Allen was born on January 21, 1953, in Seattle, Washington, to Kenneth Sam Allen and Edna Faye Allen. Allen attended Lakeside School, a private school in Seattle, where he befriended Bill Gates, two years younger, with whom he shared an enthusiasm for computers.\"\"\""
   ]
  },
  {
   "cell_type": "code",
   "execution_count": null,
   "id": "8acbde71-780b-4290-8636-9b3302cf1893",
   "metadata": {},
   "outputs": [],
   "source": [
    "predictor = Predictor.from_path(COREF_MODEL_PATH)\n",
    "predictions = predictor.predict(document=DOCUMENT)\n",
    "for k, v in predictions.items():\n",
    "    print(k)\n",
    "    print(v)\n",
    "    print(\"\\n\")"
   ]
  }
 ],
 "metadata": {
  "kernelspec": {
   "display_name": "Python 3 (ipykernel)",
   "language": "python",
   "name": "python3"
  },
  "language_info": {
   "codemirror_mode": {
    "name": "ipython",
    "version": 3
   },
   "file_extension": ".py",
   "mimetype": "text/x-python",
   "name": "python",
   "nbconvert_exporter": "python",
   "pygments_lexer": "ipython3",
   "version": "3.10.12"
  }
 },
 "nbformat": 4,
 "nbformat_minor": 5
}
