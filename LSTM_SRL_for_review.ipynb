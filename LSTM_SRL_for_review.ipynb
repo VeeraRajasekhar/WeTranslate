{
  "cells": [
    {
      "cell_type": "code",
      "execution_count": null,
      "id": "ffe3e8f2-448f-4362-9e5a-53790a509541",
      "metadata": {
        "colab": {
          "base_uri": "https://localhost:8080/"
        },
        "id": "ffe3e8f2-448f-4362-9e5a-53790a509541",
        "outputId": "01a56c18-214e-4d2c-96ab-cbf1a40b8d1a"
      },
      "outputs": [
        {
          "output_type": "stream",
          "name": "stdout",
          "text": [
            "Drive already mounted at /content/drive; to attempt to forcibly remount, call drive.mount(\"/content/drive\", force_remount=True).\n"
          ]
        }
      ],
      "source": [
        "# prompt: connect to google drive\n",
        "\n",
        "from google.colab import drive\n",
        "drive.mount('/content/drive')\n"
      ]
    },
    {
      "cell_type": "code",
      "execution_count": null,
      "id": "33e6944e-7d77-4744-9886-19a4cbaef158",
      "metadata": {
        "tags": [],
        "id": "33e6944e-7d77-4744-9886-19a4cbaef158"
      },
      "outputs": [],
      "source": [
        "import pandas as pd\n",
        "import numpy as np\n",
        "from keras.preprocessing.text import Tokenizer\n",
        "from keras.preprocessing.sequence import pad_sequences\n",
        "from keras.utils import to_categorical\n",
        "from keras.models import Sequential\n",
        "from keras.layers import LSTM, Embedding, Dense, Bidirectional\n",
        "from tensorflow.keras.callbacks import ModelCheckpoint\n",
        "from tensorflow.keras.utils import to_categorical\n",
        "import tensorflow as tf\n",
        "import matplotlib.pyplot as plt\n",
        "from sklearn.metrics import confusion_matrix, classification_report\n"
      ]
    },
    {
      "cell_type": "code",
      "source": [
        "# Step 1: Data Preprocessing\n",
        "# Load the dataset\n",
        "df = pd.read_csv(\"/content/drive/MyDrive/cleaned_srl_product_review.csv\")\n",
        "df.shape"
      ],
      "metadata": {
        "colab": {
          "base_uri": "https://localhost:8080/"
        },
        "id": "AEIPZe6ckJOK",
        "outputId": "2362aa98-4dc8-4593-fab6-ee72bd373316"
      },
      "id": "AEIPZe6ckJOK",
      "execution_count": null,
      "outputs": [
        {
          "output_type": "execute_result",
          "data": {
            "text/plain": [
              "(8260, 5)"
            ]
          },
          "metadata": {},
          "execution_count": 50
        }
      ]
    },
    {
      "cell_type": "code",
      "source": [
        "# Tokenize the reviews\n",
        "tokenizer = Tokenizer()\n",
        "tokenizer.fit_on_texts(df['Review'])\n",
        "sequences = tokenizer.texts_to_sequences(df['Review'])\n",
        "print(len(sequences))\n",
        "print(df['Review'][0])\n",
        "print(sequences[0])\n",
        "print(len(sequences),len(sequences[3]))"
      ],
      "metadata": {
        "colab": {
          "base_uri": "https://localhost:8080/"
        },
        "id": "yjjRYncukME1",
        "outputId": "4461a9dd-2b69-47f5-f083-6cb0a4cbde8e"
      },
      "id": "yjjRYncukME1",
      "execution_count": null,
      "outputs": [
        {
          "output_type": "stream",
          "name": "stdout",
          "text": [
            "8260\n",
            "while there may have been less noise caused by turbulence as they claim  the duct seemed to be vibrating  giving a whining sound\n",
            "[195, 72, 214, 25, 145, 27, 96, 2753, 131, 4752, 16, 45, 2035, 1, 4753, 815, 6, 44, 4754, 1235, 2, 4755, 82]\n",
            "8260 28\n"
          ]
        }
      ]
    },
    {
      "cell_type": "code",
      "source": [
        "# Define a ModelCheckpoint callback to save the best model based on validation accuracy\n",
        "checkpoint = ModelCheckpoint(\"model_without_duplicates.h5\", monitor='val_accuracy', verbose=1, save_best_only=True, mode='max')\n",
        "\n",
        "# Convert labels to categorical format\n",
        "labels = {'PRED': 1, 'PROD1': 2, 'ASP': 3, 'PROD2': 4}\n",
        "count = 0\n",
        "labels_numbered = []\n",
        "for _, row in df.iterrows():\n",
        "    m_len = len(sequences[count])+2\n",
        "    output_sequence = [0] * m_len\n",
        "    for label, indices in eval(row['Label']).items():\n",
        "\n",
        "        # Set the values according to the class\n",
        "        for index in indices:\n",
        "            output_sequence[index] = labels[label]\n",
        "\n",
        "    labels_numbered.append(output_sequence)\n",
        "    count+=1\n",
        "\n",
        "# Pad sequences and handle null entries\n",
        "max_length = 50\n",
        "sequences_padded = pad_sequences(sequences, maxlen=max_length, padding='post')\n",
        "labels_padded = pad_sequences(labels_numbered, maxlen=max_length, padding='post')\n",
        "\n",
        "# Step 2: Define the LSTM Model\n",
        "vocab_size = len(tokenizer.word_index) + 1\n",
        "embedding_dim = 50"
      ],
      "metadata": {
        "id": "qnWvr_m1nkhY"
      },
      "id": "qnWvr_m1nkhY",
      "execution_count": null,
      "outputs": []
    },
    {
      "cell_type": "code",
      "source": [
        "model = Sequential()\n",
        "model.add(Embedding(input_dim=vocab_size, output_dim=embedding_dim, input_length=max_length))\n",
        "model.add(LSTM(units=140, dropout=0.2, recurrent_dropout=0.3, return_sequences=True))\n",
        "model.add(LSTM(units=140, dropout=0.2, recurrent_dropout=0.2, return_sequences=True))\n",
        "model.add(Dense(units=5, activation='softmax'))\n",
        "\n",
        "model.compile(loss='sparse_categorical_crossentropy', optimizer='adam', metrics=['accuracy'])\n",
        "\n",
        "# # Step 3: Training the Model\n",
        "X = sequences_padded\n",
        "y = labels_padded\n",
        "print(X.shape,y.shape)"
      ],
      "metadata": {
        "colab": {
          "base_uri": "https://localhost:8080/"
        },
        "id": "qVYqBHOtnqRi",
        "outputId": "c3085200-c9c8-475b-e674-4c1e4325cd9c"
      },
      "id": "qVYqBHOtnqRi",
      "execution_count": null,
      "outputs": [
        {
          "output_type": "stream",
          "name": "stdout",
          "text": [
            "(8260, 50) (8260, 50)\n"
          ]
        }
      ]
    },
    {
      "cell_type": "code",
      "source": [
        "history = model.fit(X, y, epochs=15, batch_size=32, validation_split=0.2, callbacks=[checkpoint])"
      ],
      "metadata": {
        "colab": {
          "base_uri": "https://localhost:8080/"
        },
        "id": "ZiLtkHFckCLs",
        "outputId": "29f0ba99-8555-4a2a-9c8e-6c50cc088bee"
      },
      "id": "ZiLtkHFckCLs",
      "execution_count": null,
      "outputs": [
        {
          "output_type": "stream",
          "name": "stdout",
          "text": [
            "Epoch 1/15\n",
            "207/207 [==============================] - ETA: 0s - loss: 0.3659 - accuracy: 0.9206\n",
            "Epoch 1: val_accuracy improved from -inf to 0.92318, saving model to model_without_duplicates.h5\n",
            "207/207 [==============================] - 84s 366ms/step - loss: 0.3659 - accuracy: 0.9206 - val_loss: 0.2889 - val_accuracy: 0.9232\n",
            "Epoch 2/15\n",
            "207/207 [==============================] - ETA: 0s - loss: 0.1979 - accuracy: 0.9364\n",
            "Epoch 2: val_accuracy improved from 0.92318 to 0.94251, saving model to model_without_duplicates.h5\n",
            "207/207 [==============================] - 66s 317ms/step - loss: 0.1979 - accuracy: 0.9364 - val_loss: 0.1652 - val_accuracy: 0.9425\n",
            "Epoch 3/15\n",
            "207/207 [==============================] - ETA: 0s - loss: 0.1402 - accuracy: 0.9517\n",
            "Epoch 3: val_accuracy improved from 0.94251 to 0.95231, saving model to model_without_duplicates.h5\n",
            "207/207 [==============================] - 69s 333ms/step - loss: 0.1402 - accuracy: 0.9517 - val_loss: 0.1367 - val_accuracy: 0.9523\n",
            "Epoch 4/15\n",
            "207/207 [==============================] - ETA: 0s - loss: 0.1141 - accuracy: 0.9604\n",
            "Epoch 4: val_accuracy improved from 0.95231 to 0.95935, saving model to model_without_duplicates.h5\n",
            "207/207 [==============================] - 64s 309ms/step - loss: 0.1141 - accuracy: 0.9604 - val_loss: 0.1216 - val_accuracy: 0.9593\n",
            "Epoch 5/15\n",
            "207/207 [==============================] - ETA: 0s - loss: 0.1012 - accuracy: 0.9640\n",
            "Epoch 5: val_accuracy improved from 0.95935 to 0.95972, saving model to model_without_duplicates.h5\n",
            "207/207 [==============================] - 65s 316ms/step - loss: 0.1012 - accuracy: 0.9640 - val_loss: 0.1163 - val_accuracy: 0.9597\n",
            "Epoch 6/15\n",
            "207/207 [==============================] - ETA: 0s - loss: 0.0937 - accuracy: 0.9661\n",
            "Epoch 6: val_accuracy improved from 0.95972 to 0.96459, saving model to model_without_duplicates.h5\n",
            "207/207 [==============================] - 66s 317ms/step - loss: 0.0937 - accuracy: 0.9661 - val_loss: 0.1024 - val_accuracy: 0.9646\n",
            "Epoch 7/15\n",
            " 88/207 [===========>..................] - ETA: 35s - loss: 0.0893 - accuracy: 0.9676"
          ]
        }
      ]
    },
    {
      "cell_type": "code",
      "source": [
        "# Plotting the training and validation loss\n",
        "plt.figure(figsize=(10, 4))\n",
        "plt.subplot(1, 2, 1)  # 1 row, 2 columns, 1st subplot\n",
        "plt.plot(history.history['loss'], label='Train Loss')\n",
        "plt.plot(history.history['val_loss'], label='Validation Loss')\n",
        "plt.title('Training and Validation Loss')\n",
        "plt.xlabel('Epochs')\n",
        "plt.ylabel('Loss')\n",
        "plt.legend()\n",
        "\n",
        "# Plotting the training and validation accuracy\n",
        "plt.subplot(1, 2, 2)  # 1 row, 2 columns, 2nd subplot\n",
        "plt.plot(history.history['accuracy'], label='Train Accuracy')\n",
        "plt.plot(history.history['val_accuracy'], label='Validation Accuracy')\n",
        "plt.title('Training and Validation Accuracy')\n",
        "plt.xlabel('Epochs')\n",
        "plt.ylabel('Accuracy')\n",
        "plt.legend()\n",
        "\n",
        "plt.tight_layout()  # Adjusts subplot params so that the subplots fit into the figure area.\n",
        "plt.show()"
      ],
      "metadata": {
        "colab": {
          "base_uri": "https://localhost:8080/",
          "height": 407
        },
        "id": "9foFP_IooNBj",
        "outputId": "3d4e8c03-5792-4853-923c-898c1d9a0309"
      },
      "id": "9foFP_IooNBj",
      "execution_count": null,
      "outputs": [
        {
          "output_type": "display_data",
          "data": {
            "text/plain": [
              "<Figure size 1000x400 with 2 Axes>"
            ],
            "image/png": "[encoded data removed]"
          },
          "metadata": {}
        }
      ]
    },
    {
      "cell_type": "code",
      "source": [
        "\n",
        "# Step 4: Evaluation (if needed)\n",
        "validation_df = pd.read_csv(\"/content/drive/MyDrive/cleaned_srl_product_review.csv\")  # Replace \"validation_data.csv\" with your validation dataset file name\n",
        "validation_sequences = tokenizer.texts_to_sequences(validation_df['Review'])\n",
        "max_length = 50\n",
        "validation_sequences_padded = pad_sequences(validation_sequences, maxlen=max_length, padding='post')\n",
        "\n",
        "validation_labels = {'PRED': 1, 'PROD1': 2, 'ASP': 3, 'PROD2': 4}\n",
        "count = 0\n",
        "validation_labels_numbered = []\n",
        "for _, row in validation_df.iterrows():\n",
        "    # m_len = len(validation_sequences[count])+5\n",
        "    m_len = len(validation_sequences_padded[count])\n",
        "    output_sequence = [0] * m_len\n",
        "    for label, indices in eval(row['Label']).items():\n",
        "        # Set the values according to the class\n",
        "        for index in indices:\n",
        "            output_sequence[index] = labels[label]\n",
        "\n",
        "    validation_labels_numbered.append(output_sequence)\n",
        "    count+=1\n",
        "\n",
        "\n",
        "validation_labels_padded = pad_sequences(validation_labels_numbered, maxlen=max_length, padding='post')\n",
        "\n",
        "X_val = validation_sequences_padded\n",
        "y_val = validation_labels_padded\n",
        "\n",
        "# Evaluate the model\n",
        "loss, accuracy = model.evaluate(X_val, y_val)\n",
        "print(\"Test Loss:\", loss)\n",
        "print(\"Test Accuracy:\", accuracy)\n"
      ],
      "metadata": {
        "colab": {
          "base_uri": "https://localhost:8080/"
        },
        "id": "FjkT9plroKSw",
        "outputId": "72c296d8-6c4f-4805-e976-95085f3c15a5"
      },
      "id": "FjkT9plroKSw",
      "execution_count": null,
      "outputs": [
        {
          "output_type": "stream",
          "name": "stdout",
          "text": [
            "259/259 [==============================] - 13s 50ms/step - loss: 0.0648 - accuracy: 0.9760\n",
            "Test Loss: 0.064825139939785\n",
            "Test Accuracy: 0.9759515523910522\n"
          ]
        }
      ]
    },
    {
      "cell_type": "code",
      "source": [
        "predictions = model.predict(X_val)"
      ],
      "metadata": {
        "colab": {
          "base_uri": "https://localhost:8080/"
        },
        "id": "vDUdd2H5s_od",
        "outputId": "dcef8c8c-a8cf-4c88-e500-837c3282da91"
      },
      "id": "vDUdd2H5s_od",
      "execution_count": null,
      "outputs": [
        {
          "output_type": "stream",
          "name": "stdout",
          "text": [
            "259/259 [==============================] - 15s 57ms/step\n"
          ]
        }
      ]
    },
    {
      "cell_type": "code",
      "source": [
        "print(X_val.shape, y_val.shape)\n",
        "predictions.shape\n"
      ],
      "metadata": {
        "colab": {
          "base_uri": "https://localhost:8080/"
        },
        "id": "FfgZP6ExuxN_",
        "outputId": "5b53247b-270f-49dd-8f9e-51abc528e19a"
      },
      "id": "FfgZP6ExuxN_",
      "execution_count": null,
      "outputs": [
        {
          "output_type": "stream",
          "name": "stdout",
          "text": [
            "(8260, 50) (8260, 50)\n"
          ]
        },
        {
          "output_type": "execute_result",
          "data": {
            "text/plain": [
              "(8260, 50, 5)"
            ]
          },
          "metadata": {},
          "execution_count": 67
        }
      ]
    },
    {
      "cell_type": "code",
      "source": [
        "# Assuming `model.predict()` outputs probabilities and you need the class with the highest probability\n",
        "from sklearn.metrics import classification_report\n",
        "\n",
        "predicted_labels = np.argmax(predictions, axis=2)\n",
        "\n",
        "true_labels = y_val # Assuming y_val is one-hot encoded\n",
        "\n",
        "# Flatten the last two dimensions (batch size x 33 positions)\n",
        "predicted_labels_flat = predicted_labels.reshape(-1)\n",
        "true_labels_flat = true_labels.reshape(-1)\n",
        "\n",
        "print(true_labels.shape, predictions.shape, predicted_labels.shape)\n",
        "print(predicted_labels[0], y_val[0])\n",
        "print(classification_report(true_labels_flat, predicted_labels_flat, labels=[0, 1, 2, 3, 4], target_names=['None', 'PRED', 'PROD1', 'ASP', 'PROD2']))\n"
      ],
      "metadata": {
        "colab": {
          "base_uri": "https://localhost:8080/"
        },
        "id": "yKbSX2Hroz0R",
        "outputId": "7cdb73a0-02d6-4745-9122-26363ec36cac"
      },
      "id": "yKbSX2Hroz0R",
      "execution_count": null,
      "outputs": [
        {
          "output_type": "stream",
          "name": "stdout",
          "text": [
            "(8260, 50) (8260, 50, 5) (8260, 50)\n",
            "[0 0 0 0 0 1 3 0 0 0 0 0 0 0 4 0 0 0 0 0 0 0 0 0 0 0 0 0 0 0 0 0 0 0 0 0 0\n",
            " 0 0 0 0 0 0 0 0 0 0 0 0 0] [2 0 0 0 1 1 3 0 0 0 0 0 0 0 4 0 0 0 0 0 0 0 0 0 0 0 0 0 0 0 0 0 0 0 0 0 0\n",
            " 0 0 0 0 0 0 0 0 0 0 0 0 0]\n",
            "              precision    recall  f1-score   support\n",
            "\n",
            "        None       0.99      0.99      0.99    381125\n",
            "        PRED       0.82      0.79      0.81     10656\n",
            "       PROD1       0.81      0.72      0.76      7545\n",
            "         ASP       0.86      0.89      0.87      8520\n",
            "       PROD2       0.94      0.88      0.91      5154\n",
            "\n",
            "    accuracy                           0.98    413000\n",
            "   macro avg       0.88      0.85      0.87    413000\n",
            "weighted avg       0.98      0.98      0.98    413000\n",
            "\n"
          ]
        }
      ]
    },
    {
      "cell_type": "code",
      "source": [
        "##################################################################################################################\n",
        "# Step 5: Prediction\n",
        "# Load the saved model\n",
        "from keras.models import load_model\n",
        "\n",
        "# Load the saved model\n",
        "loaded_model = load_model(\"model_without_duplicates.h5\")\n",
        "\n",
        "\n",
        "# Example sentence to predict SRL labels\n",
        "example_sentences = [\"Unai Emery's side have won just two of their last five Premier League games, and remain three points off the Champions League places.\", \" His father was a chauffeur.\",\n",
        "\"No leadership in removing the anti-Semites.\",\n",
        "\"Doctors are susceptible to other diseases, such as alcoholism and addiction, so why not vaccine hesitancy\",\n",
        "\"Its modern spacious suites exude a feeling of calm, with polished wooden floors, faintly Fifties-style furnishings and original artworks.\",\n",
        "\"Mike Minor had another solid outing, allowing just one run and five hits in six innings but didn't figure into the decision. He struck out five and walked two. Calhoun's 10th homer of the season was the first hit Minor allowed after retiring the first six batters.\"\n",
        "]\n",
        "for example_sentence in example_sentences:\n",
        "    # Tokenize the example sentence\n",
        "    example_sequence = tokenizer.texts_to_sequences([example_sentence])\n",
        "\n",
        "    # Pad the sequence to ensure it has the same length as the sequences used during training\n",
        "    example_sequence_padded = pad_sequences(example_sequence, maxlen=max_length, padding='post')\n",
        "\n",
        "    # Make prediction\n",
        "    predicted_labels = np.argmax(loaded_model.predict(example_sequence_padded),axis=-1)\n",
        "    # predicted_labels = loaded_model.predict(example_sequence_padded)\n",
        "    print(predicted_labels)\n",
        "    # print(predicted_labels.shape)"
      ],
      "metadata": {
        "colab": {
          "base_uri": "https://localhost:8080/"
        },
        "id": "5iIa9HiQneSR",
        "outputId": "5104ff28-0838-4155-d71d-60b79c8b6fe7"
      },
      "id": "5iIa9HiQneSR",
      "execution_count": null,
      "outputs": [
        {
          "output_type": "stream",
          "name": "stdout",
          "text": [
            "1/1 [==============================] - 1s 566ms/step\n",
            "[[0 0 0 0 0 0 0 0 0 0 0 0 0 0 0 1 1 0 0 0 0 0 0 0 0 0 0 0 0 0 0 0 0 0 0 0\n",
            "  0 0 0 0 0 0 0 0 0 0 0 0 0 0]]\n",
            "1/1 [==============================] - 0s 59ms/step\n",
            "[[0 0 0 0 0 0 0 0 0 0 0 0 0 0 0 0 0 0 0 0 0 0 0 0 0 0 0 0 0 0 0 0 0 0 0 0\n",
            "  0 0 0 0 0 0 0 0 0 0 0 0 0 0]]\n",
            "1/1 [==============================] - 0s 58ms/step\n",
            "[[0 0 0 0 0 0 0 0 0 0 0 0 0 0 0 0 0 0 0 0 0 0 0 0 0 0 0 0 0 0 0 0 0 0 0 0\n",
            "  0 0 0 0 0 0 0 0 0 0 0 0 0 0]]\n",
            "1/1 [==============================] - 0s 56ms/step\n",
            "[[0 0 0 0 0 0 0 0 0 0 0 0 0 0 0 0 0 0 0 0 0 0 0 0 0 0 0 0 0 0 0 0 0 0 0 0\n",
            "  0 0 0 0 0 0 0 0 0 0 0 0 0 0]]\n",
            "1/1 [==============================] - 0s 55ms/step\n",
            "[[2 0 0 0 0 0 0 0 0 0 0 0 0 0 0 0 0 0 0 0 0 0 0 0 0 0 0 0 0 0 0 0 0 0 0 0\n",
            "  0 0 0 0 0 0 0 0 0 0 0 0 0 0]]\n",
            "1/1 [==============================] - 0s 56ms/step\n",
            "[[0 0 0 0 3 0 0 0 0 0 0 0 0 0 0 0 0 0 0 0 0 0 0 0 0 0 0 0 0 0 0 1 0 0 0 0\n",
            "  3 0 0 0 0 0 0 0 0 0 0 0 0 0]]\n"
          ]
        }
      ]
    },
    {
      "cell_type": "code",
      "execution_count": null,
      "id": "2410fa9f-793b-4d31-8605-fc74cc39d112",
      "metadata": {
        "id": "2410fa9f-793b-4d31-8605-fc74cc39d112"
      },
      "outputs": [],
      "source": [
        "\n",
        "# from datasets import Dataset, DatasetDict\n",
        "from datasets import load_dataset, Dataset, DatasetDict\n",
        "\n",
        "import sentencepiece as spm\n",
        "\n",
        "# Load SentencePiece model\n",
        "sp = spm.SentencePieceProcessor()\n",
        "spz = spm.SentencePieceProcessor()\n",
        "sp.load('/content/drive/MyDrive/smp_en.model')\n",
        "spz.load('/content/drive/MyDrive/smp_zu.model')\n",
        "\n",
        "# Display some vocabulary items\n",
        "print(\"Vocabulary Sample english:\")\n",
        "for id in range(10):  # Just show first 10 entries\n",
        "    print(id, sp.id_to_piece(id))\n",
        "\n",
        "print(\"Vocabulary Sample zulu:\")\n",
        "for id in range(10):  # Just show first 10 entries\n",
        "    print(id, spz.id_to_piece(id))\n",
        "\n",
        "# Example sentence\n",
        "sentence = \"No leadership in removing the anti-Semites.\"\n",
        "sentence_zu = \"Abukho ubuholi obungasusa abaphikisana nama-Semites.\"\n",
        "# Tokenize the sentence\n",
        "tokens = sp.encode_as_pieces(sentence)\n",
        "print(\"Tokens english:\", tokens)\n",
        "\n",
        "tokens_zu = spz.encode_as_pieces(sentence_zu)\n",
        "print(\"Tokens zulu:\", tokens_zu)\n",
        "\n",
        "# Get token IDs\n",
        "token_ids = sp.encode_as_ids(sentence)\n",
        "print(\"Token IDs English:\", token_ids)\n",
        "\n",
        "token_ids_zu = spz.encode_as_ids(sentence_zu)\n",
        "print(\"Token IDs Zulu:\", token_ids_zu)\n",
        "\n",
        "import sentencepiece as spm\n",
        "\n",
        "# Load SentencePiece model\n",
        "sp = spm.SentencePieceProcessor()\n",
        "spz = spm.SentencePieceProcessor()\n",
        "sp.load('/content/drive/MyDrive/smp_en.model')\n",
        "spz.load('/content/drive/MyDrive/smp_zu.model')\n",
        "\n",
        "# Display some vocabulary items\n",
        "print(\"Vocabulary Sample english:\")\n",
        "for id in range(10):  # Just show first 10 entries\n",
        "    print(id, sp.id_to_piece(id))\n",
        "\n",
        "print(\"Vocabulary Sample zulu:\")\n",
        "for id in range(10):  # Just show first 10 entries\n",
        "    print(id, spz.id_to_piece(id))\n",
        "\n",
        "# Example sentence\n",
        "sentence = \"Doctors are susceptible to other diseases, such as alcoholism and addiction\"\n",
        "sentence_zu = \"Abukho ubuholi obungasusa abaphikisana nama-Semites.\"\n",
        "# Tokenize the sentence\n",
        "tokens = sp.encode_as_pieces(sentence)\n",
        "print(\"Tokens english:\", tokens)\n",
        "\n",
        "tokens_zu = spz.encode_as_pieces(sentence_zu)\n",
        "print(\"Tokens zulu:\", tokens_zu)\n",
        "\n",
        "# Get token IDs\n",
        "token_ids = sp.encode_as_ids(sentence)\n",
        "print(\"Token IDs English:\", token_ids)\n",
        "\n",
        "token_ids_zu = spz.encode_as_ids(sentence_zu)\n",
        "print(\"Token IDs Zulu:\", token_ids_zu)\n"
      ]
    },
    {
      "cell_type": "code",
      "source": [
        "import pandas as pd\n",
        "import numpy as np\n",
        "from keras.preprocessing.text import Tokenizer\n",
        "from keras.preprocessing.sequence import pad_sequences\n",
        "from tensorflow.keras.utils import to_categorical\n",
        "from keras.models import Sequential\n",
        "from keras.layers import LSTM, Embedding, Dense\n",
        "from tensorflow.keras.callbacks import ModelCheckpoint\n",
        "from tensorflow.keras.utils import to_categorical\n",
        "from sklearn.model_selection import train_test_split\n",
        "from keras.models import load_model\n",
        "import tensorflow as tf\n",
        "import re\n",
        "from nltk.tokenize import word_tokenize\n",
        "from nltk.stem import WordNetLemmatizer\n",
        "from nltk.corpus import stopwords\n",
        "from sklearn.model_selection import train_test_split\n",
        "from tensorflow.keras.models import Sequential, load_model\n",
        "from tensorflow.keras.layers import Embedding, LSTM, Dense, Dropout\n",
        "from keras.callbacks import EarlyStopping\n",
        "from keras import regularizers"
      ],
      "metadata": {
        "id": "rz9MrmHgMBZ4"
      },
      "id": "rz9MrmHgMBZ4",
      "execution_count": 2,
      "outputs": []
    },
    {
      "cell_type": "code",
      "source": [
        "# Remove numbers from text\n",
        "def remove_numbers(text):\n",
        "    return re.sub(r'\\d+', '', text)\n",
        "def remove_unusual_characters(text):\n",
        "    res = re.sub(r'[^\\w\\s,.;:!?\\-]','',text)\n",
        "    res = re.sub(r'\\.+',' ',res)\n",
        "    res = re.sub(r'!+','',res)\n",
        "    res = re.sub(r',+',' ',res)\n",
        "    res = re.sub(r';+',' ',res)\n",
        "    res = re.sub(r';+',' ',res)\n",
        "    res = re.sub(r'\\n+','',res)\n",
        "    res = re.sub(r'\\d+','',res)\n",
        "    return re.sub(r'\\s+', ' ', res)\n",
        "\n",
        "\n",
        "\n",
        "    return res\n",
        "def convert_to_lowercase(text):\n",
        "    return text.lower()"
      ],
      "metadata": {
        "id": "mOKfode2Mfcf"
      },
      "id": "mOKfode2Mfcf",
      "execution_count": 3,
      "outputs": []
    },
    {
      "cell_type": "code",
      "source": [
        "df2['text'] = df2['text'].apply(remove_numbers)\n",
        "df2['text']=df2['text'].apply(remove_unusual_characters)\n",
        "df2['text']=df2['text'].apply(convert_to_lowercase)"
      ],
      "metadata": {
        "id": "8hYx5vttMitz"
      },
      "id": "8hYx5vttMitz",
      "execution_count": 3,
      "outputs": []
    }
  ],
  "metadata": {
    "kernelspec": {
      "display_name": "NLP_NEWBIES",
      "language": "python",
      "name": "nlpnewbies"
    },
    "language_info": {
      "codemirror_mode": {
        "name": "ipython",
        "version": 3
      },
      "file_extension": ".py",
      "mimetype": "text/x-python",
      "name": "python",
      "nbconvert_exporter": "python",
      "pygments_lexer": "ipython3",
      "version": "3.9.15"
    },
    "colab": {
      "provenance": []
    }
  },
  "nbformat": 4,
  "nbformat_minor": 5
}