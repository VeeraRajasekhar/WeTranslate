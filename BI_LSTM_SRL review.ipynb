{
  "cells": [
    {
      "cell_type": "code",
      "execution_count": null,
      "id": "ffe3e8f2-448f-4362-9e5a-53790a509541",
      "metadata": {
        "colab": {
          "base_uri": "https://localhost:8080/"
        },
        "id": "ffe3e8f2-448f-4362-9e5a-53790a509541",
        "outputId": "e586aa7b-b67b-49ed-e658-ecd9dcd1a30f"
      },
      "outputs": [
        {
          "output_type": "stream",
          "name": "stdout",
          "text": [
            "Mounted at /content/drive\n"
          ]
        }
      ],
      "source": [
        "# prompt: connect to google drive\n",
        "\n",
        "from google.colab import drive\n",
        "drive.mount('/content/drive')\n"
      ]
    },
    {
      "cell_type": "code",
      "execution_count": null,
      "id": "33e6944e-7d77-4744-9886-19a4cbaef158",
      "metadata": {
        "tags": [],
        "id": "33e6944e-7d77-4744-9886-19a4cbaef158"
      },
      "outputs": [],
      "source": [
        "import pandas as pd\n",
        "import numpy as np\n",
        "from keras.preprocessing.text import Tokenizer\n",
        "from keras.preprocessing.sequence import pad_sequences\n",
        "from keras.utils import to_categorical\n",
        "from keras.models import Sequential\n",
        "from keras.layers import LSTM, Embedding, Dense,Bidirectional\n",
        "from tensorflow.keras.callbacks import ModelCheckpoint\n",
        "from tensorflow.keras.utils import to_categorical\n",
        "import tensorflow as tf\n",
        "import matplotlib.pyplot as plt\n",
        "from sklearn.metrics import confusion_matrix, classification_report\n"
      ]
    },
    {
      "cell_type": "code",
      "source": [
        "\n",
        "df = pd.read_csv(\"/content/drive/MyDrive/srl_product_review.csv\")\n",
        "df.shape"
      ],
      "metadata": {
        "colab": {
          "base_uri": "https://localhost:8080/"
        },
        "id": "AEIPZe6ckJOK",
        "outputId": "23b9603c-106f-4149-bf39-e16522e60598"
      },
      "id": "AEIPZe6ckJOK",
      "execution_count": null,
      "outputs": [
        {
          "output_type": "execute_result",
          "data": {
            "text/plain": [
              "(8260, 5)"
            ]
          },
          "metadata": {},
          "execution_count": 3
        }
      ]
    },
    {
      "cell_type": "code",
      "source": [
        "tokenizer = Tokenizer()\n",
        "tokenizer.fit_on_texts(df['Review'])\n",
        "sequences = tokenizer.texts_to_sequences(df['Review'])\n"
      ],
      "metadata": {
        "id": "yjjRYncukME1"
      },
      "id": "yjjRYncukME1",
      "execution_count": null,
      "outputs": []
    },
    {
      "cell_type": "code",
      "source": [
        "checkpoint = ModelCheckpoint(\"model_srl_BiLstm.h5\", monitor='val_accuracy', verbose=1, save_best_only=True, mode='max')\n",
        "\n",
        "labels = {'PRED': 1, 'PROD1': 2, 'ASP': 3, 'PROD2': 4}\n",
        "count = 0\n",
        "labels_numbered = []\n",
        "for _, row in df.iterrows():\n",
        "    m_len = len(sequences[count])+2\n",
        "    output_sequence = [0] * m_len\n",
        "    for label, indices in eval(row['Label']).items():\n",
        "\n",
        "        for index in indices:\n",
        "            output_sequence[index] = labels[label]\n",
        "\n",
        "    labels_numbered.append(output_sequence)\n",
        "    count+=1\n",
        "\n",
        "max_length = 40\n",
        "sequences_padded = pad_sequences(sequences, maxlen=max_length, padding='post')\n",
        "labels_padded = pad_sequences(labels_numbered, maxlen=max_length, padding='post')\n",
        "\n",
        "vocab_size = len(tokenizer.word_index)\n",
        "embedding_dim = 200"
      ],
      "metadata": {
        "id": "qnWvr_m1nkhY"
      },
      "id": "qnWvr_m1nkhY",
      "execution_count": null,
      "outputs": []
    },
    {
      "cell_type": "code",
      "source": [
        "\n",
        "if tf.test.gpu_device_name():\n",
        "    print('Default GPU Device: {}'.format(tf.test.gpu_device_name()))\n",
        "else:\n",
        "    print(\"Please install GPU version of TF\")\n",
        "\n",
        "model2 = Sequential()\n",
        "model2.add(Embedding(input_dim=vocab_size, output_dim=embedding_dim, input_length=max_length))\n",
        "model2.add(Bidirectional(LSTM(units=64, return_sequences=True)))\n",
        "model2.add(Bidirectional(LSTM(units=32, return_sequences=True)))\n",
        "model2.add(Dense(1, activation='sigmoid'))\n",
        "\n",
        "with tf.device('/GPU:0'):\n",
        "\n",
        "  model = Sequential()\n",
        "  model.add(Embedding(input_dim=vocab_size, output_dim=embedding_dim, input_length=max_length))\n",
        "  model.add(Bidirectional(LSTM(units=70, dropout=0.2, recurrent_dropout=0.2, return_sequences=True)))\n",
        "  model.add(Dense(units=5, activation='softmax'))\n",
        "\n",
        "  model.compile(loss='sparse_categorical_crossentropy', optimizer='adam', metrics=['accuracy'])\n",
        "\n",
        "  X = sequences_padded\n",
        "  y = labels_padded\n",
        "  history = model.fit(X, y, epochs=15, batch_size=32, validation_split=0.2, callbacks=[checkpoint])"
      ],
      "metadata": {
        "colab": {
          "base_uri": "https://localhost:8080/"
        },
        "id": "qVYqBHOtnqRi",
        "outputId": "9a093b1f-f21e-4888-b732-ad4e497c6fae"
      },
      "id": "qVYqBHOtnqRi",
      "execution_count": null,
      "outputs": [
        {
          "output_type": "stream",
          "name": "stderr",
          "text": [
            "WARNING:tensorflow:Layer lstm_1 will not use cuDNN kernels since it doesn't meet the criteria. It will use a generic GPU kernel as fallback when running on GPU.\n",
            "WARNING:tensorflow:Layer lstm_1 will not use cuDNN kernels since it doesn't meet the criteria. It will use a generic GPU kernel as fallback when running on GPU.\n",
            "WARNING:tensorflow:Layer lstm_1 will not use cuDNN kernels since it doesn't meet the criteria. It will use a generic GPU kernel as fallback when running on GPU.\n"
          ]
        },
        {
          "output_type": "stream",
          "name": "stdout",
          "text": [
            "Default GPU Device: /device:GPU:0\n",
            "Epoch 1/15\n",
            "207/207 [==============================] - ETA: 0s - loss: 0.3422 - accuracy: 0.9129\n",
            "Epoch 1: val_accuracy improved from -inf to 0.92326, saving model to model_srl_BiLstm.h5\n",
            "207/207 [==============================] - 78s 330ms/step - loss: 0.3422 - accuracy: 0.9129 - val_loss: 0.2160 - val_accuracy: 0.9233\n",
            "Epoch 2/15\n"
          ]
        },
        {
          "output_type": "stream",
          "name": "stderr",
          "text": [
            "/usr/local/lib/python3.10/dist-packages/keras/src/engine/training.py:3103: UserWarning: You are saving your model as an HDF5 file via `model.save()`. This file format is considered legacy. We recommend using instead the native Keras format, e.g. `model.save('my_model.keras')`.\n",
            "  saving_api.save_model(\n"
          ]
        },
        {
          "output_type": "stream",
          "name": "stdout",
          "text": [
            "207/207 [==============================] - ETA: 0s - loss: 0.1384 - accuracy: 0.9520\n",
            "Epoch 2: val_accuracy improved from 0.92326 to 0.94193, saving model to model_srl_BiLstm.h5\n",
            "207/207 [==============================] - 73s 355ms/step - loss: 0.1384 - accuracy: 0.9520 - val_loss: 0.1603 - val_accuracy: 0.9419\n",
            "Epoch 3/15\n",
            "207/207 [==============================] - ETA: 0s - loss: 0.1047 - accuracy: 0.9638\n",
            "Epoch 3: val_accuracy improved from 0.94193 to 0.95242, saving model to model_srl_BiLstm.h5\n",
            "207/207 [==============================] - 56s 269ms/step - loss: 0.1047 - accuracy: 0.9638 - val_loss: 0.1324 - val_accuracy: 0.9524\n",
            "Epoch 4/15\n",
            "207/207 [==============================] - ETA: 0s - loss: 0.0869 - accuracy: 0.9705\n",
            "Epoch 4: val_accuracy improved from 0.95242 to 0.95850, saving model to model_srl_BiLstm.h5\n",
            "207/207 [==============================] - 57s 278ms/step - loss: 0.0869 - accuracy: 0.9705 - val_loss: 0.1197 - val_accuracy: 0.9585\n",
            "Epoch 5/15\n",
            "207/207 [==============================] - ETA: 0s - loss: 0.0759 - accuracy: 0.9753\n",
            "Epoch 5: val_accuracy improved from 0.95850 to 0.96055, saving model to model_srl_BiLstm.h5\n",
            "207/207 [==============================] - 57s 276ms/step - loss: 0.0759 - accuracy: 0.9753 - val_loss: 0.1150 - val_accuracy: 0.9605\n",
            "Epoch 6/15\n",
            "207/207 [==============================] - ETA: 0s - loss: 0.0687 - accuracy: 0.9775\n",
            "Epoch 6: val_accuracy did not improve from 0.96055\n",
            "207/207 [==============================] - 55s 268ms/step - loss: 0.0687 - accuracy: 0.9775 - val_loss: 0.1209 - val_accuracy: 0.9595\n",
            "Epoch 7/15\n",
            "207/207 [==============================] - ETA: 0s - loss: 0.0626 - accuracy: 0.9792\n",
            "Epoch 7: val_accuracy improved from 0.96055 to 0.96202, saving model to model_srl_BiLstm.h5\n",
            "207/207 [==============================] - 54s 262ms/step - loss: 0.0626 - accuracy: 0.9792 - val_loss: 0.1122 - val_accuracy: 0.9620\n",
            "Epoch 8/15\n",
            "207/207 [==============================] - ETA: 0s - loss: 0.0564 - accuracy: 0.9812\n",
            "Epoch 8: val_accuracy did not improve from 0.96202\n",
            "207/207 [==============================] - 55s 265ms/step - loss: 0.0564 - accuracy: 0.9812 - val_loss: 0.1147 - val_accuracy: 0.9612\n",
            "Epoch 9/15\n",
            "207/207 [==============================] - ETA: 0s - loss: 0.0515 - accuracy: 0.9827\n",
            "Epoch 9: val_accuracy did not improve from 0.96202\n",
            "207/207 [==============================] - 54s 262ms/step - loss: 0.0515 - accuracy: 0.9827 - val_loss: 0.1160 - val_accuracy: 0.9615\n",
            "Epoch 10/15\n",
            "207/207 [==============================] - ETA: 0s - loss: 0.0467 - accuracy: 0.9843\n",
            "Epoch 10: val_accuracy improved from 0.96202 to 0.96312, saving model to model_srl_BiLstm.h5\n",
            "207/207 [==============================] - 57s 274ms/step - loss: 0.0467 - accuracy: 0.9843 - val_loss: 0.1143 - val_accuracy: 0.9631\n",
            "Epoch 11/15\n",
            "207/207 [==============================] - ETA: 0s - loss: 0.0420 - accuracy: 0.9857\n",
            "Epoch 11: val_accuracy did not improve from 0.96312\n",
            "207/207 [==============================] - 66s 318ms/step - loss: 0.0420 - accuracy: 0.9857 - val_loss: 0.1235 - val_accuracy: 0.9621\n",
            "Epoch 12/15\n",
            "207/207 [==============================] - ETA: 0s - loss: 0.0389 - accuracy: 0.9870\n",
            "Epoch 12: val_accuracy improved from 0.96312 to 0.96413, saving model to model_srl_BiLstm.h5\n",
            "207/207 [==============================] - 53s 259ms/step - loss: 0.0389 - accuracy: 0.9870 - val_loss: 0.1214 - val_accuracy: 0.9641\n",
            "Epoch 13/15\n",
            "207/207 [==============================] - ETA: 0s - loss: 0.0355 - accuracy: 0.9880\n",
            "Epoch 13: val_accuracy did not improve from 0.96413\n",
            "207/207 [==============================] - 63s 307ms/step - loss: 0.0355 - accuracy: 0.9880 - val_loss: 0.1189 - val_accuracy: 0.9641\n",
            "Epoch 14/15\n",
            "207/207 [==============================] - ETA: 0s - loss: 0.0330 - accuracy: 0.9888\n",
            "Epoch 14: val_accuracy did not improve from 0.96413\n",
            "207/207 [==============================] - 72s 348ms/step - loss: 0.0330 - accuracy: 0.9888 - val_loss: 0.1279 - val_accuracy: 0.9633\n",
            "Epoch 15/15\n",
            "207/207 [==============================] - ETA: 0s - loss: 0.0311 - accuracy: 0.9894\n",
            "Epoch 15: val_accuracy did not improve from 0.96413\n",
            "207/207 [==============================] - 54s 259ms/step - loss: 0.0311 - accuracy: 0.9894 - val_loss: 0.1262 - val_accuracy: 0.9635\n"
          ]
        }
      ]
    },
    {
      "cell_type": "code",
      "source": [
        "from keras.layers import Input, Concatenate, Dot, Activation\n",
        "from keras.models import Model\n",
        "\n",
        "def attention_model():\n",
        "    inputs = Input(shape=(max_length,))\n",
        "    embedding = Embedding(input_dim=vocab_size, output_dim=embedding_dim, input_length=max_length)(inputs)\n",
        "    lstm = Bidirectional(LSTM(units=64, return_sequences=True))(embedding)\n",
        "    attention = Dense(1, activation='tanh')(lstm)\n",
        "    attention = Flatten()(attention)\n",
        "    attention = Activation('softmax')(attention)\n",
        "    attention = RepeatVector(128)(attention)\n",
        "    attention = Permute([2, 1])(attention)\n",
        "    sent_representation = Multiply()([lstm, attention])\n",
        "    sent_representation = Lambda(lambda xin: K.sum(xin, axis=1))(sent_representation)\n",
        "    output = Dense(1, activation='sigmoid')(sent_representation)\n",
        "\n",
        "    model = Model(inputs=inputs, outputs=output)\n",
        "    return model\n",
        "\n",
        "model3 = attention_model()\n",
        "model3.compile(optimizer='adam', loss='binary_crossentropy', metrics=['accuracy'])\n"
      ],
      "metadata": {
        "id": "BKrHI_XQP1Wq"
      },
      "id": "BKrHI_XQP1Wq",
      "execution_count": null,
      "outputs": []
    },
    {
      "cell_type": "code",
      "source": [
        "# Plotting the training and validation loss\n",
        "plt.figure(figsize=(10, 4))\n",
        "plt.subplot(1, 2, 1)  # 1 row, 2 columns, 1st subplot\n",
        "plt.plot(history.history['loss'], label='Train Loss')\n",
        "plt.plot(history.history['val_loss'], label='Validation Loss')\n",
        "plt.title('Training and Validation Loss')\n",
        "plt.xlabel('Epochs')\n",
        "plt.ylabel('Loss')\n",
        "plt.legend()\n",
        "\n",
        "# Plotting the training and validation accuracy\n",
        "plt.subplot(1, 2, 2)  # 1 row, 2 columns, 2nd subplot\n",
        "plt.plot(history.history['accuracy'], label='Train Accuracy')\n",
        "plt.plot(history.history['val_accuracy'], label='Validation Accuracy')\n",
        "plt.title('Training and Validation Accuracy')\n",
        "plt.xlabel('Epochs')\n",
        "plt.ylabel('Accuracy')\n",
        "plt.legend()\n",
        "\n",
        "plt.tight_layout()  # Adjusts subplot params so that the subplots fit into the figure area.\n",
        "plt.show()"
      ],
      "metadata": {
        "colab": {
          "base_uri": "https://localhost:8080/",
          "height": 407
        },
        "id": "9foFP_IooNBj",
        "outputId": "5e2afecc-69ed-417c-e3e7-4d930714af04"
      },
      "id": "9foFP_IooNBj",
      "execution_count": null,
      "outputs": [
        {
          "output_type": "display_data",
          "data": {
            "text/plain": [
              "<Figure size 1000x400 with 2 Axes>"
            ],
            "image/png": "[encoded data removed]"
          },
          "metadata": {}
        }
      ]
    },
    {
      "cell_type": "code",
      "source": [
        "\n",
        "# Step 4: Evaluation (if needed)\n",
        "validation_df = pd.read_csv(\"/content/drive/MyDrive/cleaned_srl_product_review.csv\")  # Replace \"validation_data.csv\" with your validation dataset file name\n",
        "validation_sequences = tokenizer.texts_to_sequences(validation_df['Review'])\n",
        "max_length = 40\n",
        "validation_sequences_padded = pad_sequences(validation_sequences, maxlen=max_length, padding='post')\n",
        "\n",
        "validation_labels = {'PRED': 1, 'PROD1': 2, 'ASP': 3, 'PROD2': 4}\n",
        "count = 0\n",
        "validation_labels_numbered = []\n",
        "for _, row in validation_df.iterrows():\n",
        "    # m_len = len(validation_sequences[count])+5\n",
        "    m_len = len(validation_sequences_padded[count])\n",
        "    output_sequence = [0] * m_len\n",
        "    for label, indices in eval(row['Label']).items():\n",
        "        # Set the values according to the class\n",
        "        for index in indices:\n",
        "            output_sequence[index] = labels[label]\n",
        "\n",
        "    validation_labels_numbered.append(output_sequence)\n",
        "    count+=1\n",
        "\n",
        "\n",
        "validation_labels_padded = pad_sequences(validation_labels_numbered, maxlen=max_length, padding='post')\n",
        "\n",
        "X_val = validation_sequences_padded\n",
        "y_val = validation_labels_padded\n",
        "\n",
        "# Evaluate the model\n",
        "loss, accuracy = model.evaluate(X_val, y_val)\n",
        "print(\"Test Loss:\", loss)\n",
        "print(\"Test Accuracy:\", accuracy)\n"
      ],
      "metadata": {
        "colab": {
          "base_uri": "https://localhost:8080/"
        },
        "id": "FjkT9plroKSw",
        "outputId": "e5c2906a-2eed-40bd-c951-6481bfaa7924"
      },
      "id": "FjkT9plroKSw",
      "execution_count": null,
      "outputs": [
        {
          "output_type": "stream",
          "name": "stdout",
          "text": [
            "259/259 [==============================] - 9s 35ms/step - loss: 0.0446 - accuracy: 0.9864\n",
            "Test Loss: 0.04462471231818199\n",
            "Test Accuracy: 0.9863831996917725\n"
          ]
        }
      ]
    },
    {
      "cell_type": "code",
      "source": [
        "predictions = model.predict(X_val)"
      ],
      "metadata": {
        "colab": {
          "base_uri": "https://localhost:8080/"
        },
        "id": "vDUdd2H5s_od",
        "outputId": "affdeed1-c2b0-4408-d7d5-b83d3cac6675"
      },
      "id": "vDUdd2H5s_od",
      "execution_count": null,
      "outputs": [
        {
          "output_type": "stream",
          "name": "stdout",
          "text": [
            "259/259 [==============================] - 7s 25ms/step\n"
          ]
        }
      ]
    },
    {
      "cell_type": "code",
      "source": [
        "print(X_val.shape, y_val.shape)\n",
        "predictions.shape\n"
      ],
      "metadata": {
        "colab": {
          "base_uri": "https://localhost:8080/"
        },
        "id": "FfgZP6ExuxN_",
        "outputId": "2cf1f5ba-eb90-47f9-d664-db2b2502d2ba"
      },
      "id": "FfgZP6ExuxN_",
      "execution_count": null,
      "outputs": [
        {
          "output_type": "stream",
          "name": "stdout",
          "text": [
            "(8260, 40) (8260, 40)\n"
          ]
        },
        {
          "output_type": "execute_result",
          "data": {
            "text/plain": [
              "(8260, 40, 5)"
            ]
          },
          "metadata": {},
          "execution_count": 13
        }
      ]
    },
    {
      "cell_type": "code",
      "source": [
        "from sklearn.metrics import classification_report\n",
        "\n",
        "predicted_labels = np.argmax(predictions, axis=2)\n",
        "\n",
        "true_labels = y_val\n",
        "\n",
        "predicted_labels_flat = predicted_labels.reshape(-1)\n",
        "true_labels_flat = true_labels.reshape(-1)\n",
        "\n",
        "print(true_labels.shape, predictions.shape, predicted_labels.shape)\n",
        "print(predicted_labels[0], y_val[0])\n",
        "print(classification_report(true_labels_flat, predicted_labels_flat, labels=[0, 1, 2, 3, 4], target_names=['None', 'PRED', 'PROD1', 'ASP', 'PROD2']))\n"
      ],
      "metadata": {
        "colab": {
          "base_uri": "https://localhost:8080/"
        },
        "id": "yKbSX2Hroz0R",
        "outputId": "1fbaeb43-bbe2-4eeb-a081-a4fb7332dcd1"
      },
      "id": "yKbSX2Hroz0R",
      "execution_count": null,
      "outputs": [
        {
          "output_type": "stream",
          "name": "stdout",
          "text": [
            "(8260, 40) (8260, 40, 5) (8260, 40)\n",
            "[2 0 0 0 1 1 3 0 0 0 0 0 0 0 4 0 0 0 0 0 0 0 0 0 0 0 0 0 0 0 0 0 0 0 0 0 0\n",
            " 0 0 0] [2 0 0 0 1 1 3 0 0 0 0 0 0 0 4 0 0 0 0 0 0 0 0 0 0 0 0 0 0 0 0 0 0 0 0 0 0\n",
            " 0 0 0]\n",
            "              precision    recall  f1-score   support\n",
            "\n",
            "        None       0.99      0.99      0.99    298525\n",
            "        PRED       0.92      0.90      0.91     10656\n",
            "       PROD1       0.94      0.95      0.95      7545\n",
            "         ASP       0.91      0.91      0.91      8520\n",
            "       PROD2       0.97      0.90      0.93      5154\n",
            "\n",
            "    accuracy                           0.99    330400\n",
            "   macro avg       0.95      0.93      0.94    330400\n",
            "weighted avg       0.99      0.99      0.99    330400\n",
            "\n"
          ]
        }
      ]
    },
    {
      "cell_type": "code",
      "source": [
        "\n",
        "from keras.models import load_model\n",
        "\n",
        "loaded_model = load_model(\"model_srl_BiLstm.h5\")\n",
        "\n",
        "\n",
        "example_sentences = [\"Unai Emery's side have won just two of their last five Premier League games, and remain three points off the Champions League places.\", \" His father was a chauffeur.\",\n",
        "\"No leadership in removing the anti-Semites.\",\n",
        "\"Doctors are susceptible to other diseases, such as alcoholism and addiction, so why not vaccine hesitancy\",\n",
        "\"Its modern spacious suites exude a feeling of calm, with polished wooden floors, faintly Fifties-style furnishings and original artworks.\",\n",
        "\"Mike Minor had another solid outing, allowing just one run and five hits in six innings but didn't figure into the decision. He struck out five and walked two. Calhoun's 10th homer of the season was the first hit Minor allowed after retiring the first six batters.\"\n",
        "]\n",
        "\n",
        "for example_sentence in example_sentences:\n",
        "    example_sequence = tokenizer.texts_to_sequences([example_sentence])\n",
        "\n",
        "    example_sequence_padded = pad_sequences(example_sequence, maxlen=max_length, padding='post')\n",
        "\n",
        "    predicted_labels = np.argmax(loaded_model.predict(example_sequence_padded),axis=-1)\n",
        "    print(predicted_labels)\n"
      ],
      "metadata": {
        "id": "5iIa9HiQneSR"
      },
      "id": "5iIa9HiQneSR",
      "execution_count": null,
      "outputs": []
    },
    {
      "cell_type": "code",
      "execution_count": null,
      "id": "2410fa9f-793b-4d31-8605-fc74cc39d112",
      "metadata": {
        "id": "2410fa9f-793b-4d31-8605-fc74cc39d112"
      },
      "outputs": [],
      "source": []
    }
  ],
  "metadata": {
    "kernelspec": {
      "display_name": "NLP_NEWBIES",
      "language": "python",
      "name": "nlpnewbies"
    },
    "language_info": {
      "codemirror_mode": {
        "name": "ipython",
        "version": 3
      },
      "file_extension": ".py",
      "mimetype": "text/x-python",
      "name": "python",
      "nbconvert_exporter": "python",
      "pygments_lexer": "ipython3",
      "version": "3.9.15"
    },
    "colab": {
      "provenance": [],
      "gpuType": "T4"
    },
    "accelerator": "GPU"
  },
  "nbformat": 4,
  "nbformat_minor": 5
}